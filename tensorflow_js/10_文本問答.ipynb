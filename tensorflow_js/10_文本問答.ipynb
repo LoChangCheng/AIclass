{
  "nbformat": 4,
  "nbformat_minor": 0,
  "metadata": {
    "colab": {
      "provenance": [],
      "collapsed_sections": [
        "9gwWYgUlUHRw",
        "7-AtHFcSUUmF"
      ]
    },
    "kernelspec": {
      "name": "python3",
      "display_name": "Python 3"
    },
    "language_info": {
      "name": "python"
    }
  },
  "cells": [
    {
      "cell_type": "markdown",
      "source": [
        "# Packages"
      ],
      "metadata": {
        "id": "9gwWYgUlUHRw"
      }
    },
    {
      "cell_type": "code",
      "source": [
        "from google.colab.output import eval_js\n",
        "from IPython.display import clear_output, HTML\n",
        "clear_output()"
      ],
      "metadata": {
        "id": "FuanqICiUJfa"
      },
      "execution_count": null,
      "outputs": []
    },
    {
      "cell_type": "markdown",
      "source": [
        "# Prep"
      ],
      "metadata": {
        "id": "7-AtHFcSUUmF"
      }
    },
    {
      "cell_type": "code",
      "source": [
        "path = '/usr/local/share/jupyter/nbextensions/google.colab'\n",
        "!cp -r {path}/* .\n",
        "!rm -r {path}\n",
        "!ln -s /content {path}\n",
        "# change base tag\n",
        "\n",
        "def change_base_url():\n",
        "  eval_js(\"\"\"\n",
        "  var base = document.createElement('base')\n",
        "  base.href = 'https://localhost:8080/nbextensions/google.colab/'\n",
        "  document.head.prepend(base)\n",
        "  \"\"\")\n",
        "# make it run automatically in every cell\n",
        "get_ipython().events.register('pre_run_cell', change_base_url)"
      ],
      "metadata": {
        "id": "MCmv7J_KUVwU"
      },
      "execution_count": null,
      "outputs": []
    },
    {
      "cell_type": "markdown",
      "source": [
        "# Start"
      ],
      "metadata": {
        "id": "fu7bLfo2pz8X"
      }
    },
    {
      "cell_type": "code",
      "source": [
        "#@title Q&A\n",
        "html_code = HTML('''\n",
        "<!-- utf8編碼 -->\n",
        "<meta http-equiv=\"Content-Type\" content=\"text/html; charset=UTF-8\">\n",
        "<!-- 讀取tfjs套件 -->\n",
        "<script src=\"https://cdn.jsdelivr.net/npm/@tensorflow/tfjs\"> </script> \n",
        "<!-- 讀取問答模型 -->\n",
        "<script src=\"https://cdn.jsdelivr.net/npm/@tensorflow-models/qna\"> </script> \n",
        "\n",
        "<h2>輸入英文文本段落敘述</h2>\n",
        "Passage:<input type=\"text\" id=\"passage\" size=\"100\" value=\"My name is Jerry and I live in Taiwan.\">\n",
        "<h2>針對文本提問</h2>\n",
        "Question:<input type=\"text\" id=\"question\" size=\"50\" value=\"What's my name?\">\n",
        "\n",
        "<!-- 送出按鈕 -->\n",
        "<button type=\"button\" onclick=\"myFunction()\">Confirm</button>\n",
        "<p id=\"ans\"></p>\n",
        "  \n",
        "<script>\n",
        "  function myFunction() {\n",
        "      const passage = document.getElementById(\"passage\").value; // 敘述段落\n",
        "      const question = document.getElementById(\"question\").value; // 問題\n",
        "      var ans = document.getElementById(\"ans\");\n",
        "      ans.innerHTML = 'Answer: (Processing...)'\n",
        "      console.log(passage);\n",
        "      console.log(question);\n",
        "\n",
        "      // 讀取模型\n",
        "      qna.load().then(model => {\n",
        "        // 分析答案\n",
        "        model.findAnswers(question, passage).then(answers => {\n",
        "          console.log('Answers: ', answers);\n",
        "          ans.innerHTML = \"Answer: \" + answers[0].text;\n",
        "        });\n",
        "      });\n",
        "\n",
        "  }\n",
        "</script>\n",
        "''')\n",
        "\n",
        "html_code"
      ],
      "metadata": {
        "colab": {
          "base_uri": "https://localhost:8080/",
          "height": 181
        },
        "id": "0ck6lkLwC_dk",
        "outputId": "43389a8d-0b67-4bb5-a61c-798195c2ef35"
      },
      "execution_count": null,
      "outputs": [
        {
          "output_type": "execute_result",
          "data": {
            "text/plain": [
              "<IPython.core.display.HTML object>"
            ],
            "text/html": [
              "\n",
              "<!-- utf8編碼 -->\n",
              "<meta http-equiv=\"Content-Type\" content=\"text/html; charset=UTF-8\">\n",
              "<!-- 讀取tfjs套件 -->\n",
              "<script src=\"https://cdn.jsdelivr.net/npm/@tensorflow/tfjs\"> </script> \n",
              "<!-- 讀取問答模型 -->\n",
              "<script src=\"https://cdn.jsdelivr.net/npm/@tensorflow-models/qna\"> </script> \n",
              "\n",
              "<h2>輸入英文文本段落敘述</h2>\n",
              "Passage:<input type=\"text\" id=\"passage\" size=\"100\" value=\"My name is Jerry and I live in Taiwan.\">\n",
              "<h2>針對文本提問</h2>\n",
              "Question:<input type=\"text\" id=\"question\" size=\"50\" value=\"What's my name?\">\n",
              "\n",
              "<!-- 送出按鈕 -->\n",
              "<button type=\"button\" onclick=\"myFunction()\">Confirm</button>\n",
              "<p id=\"ans\"></p>\n",
              "  \n",
              "<script>\n",
              "  function myFunction() {\n",
              "      const passage = document.getElementById(\"passage\").value; // 敘述段落\n",
              "      const question = document.getElementById(\"question\").value; // 問題\n",
              "      var ans = document.getElementById(\"ans\");\n",
              "      ans.innerHTML = 'Answer: (Processing...)'\n",
              "      console.log(passage);\n",
              "      console.log(question);\n",
              "\n",
              "      // 讀取模型\n",
              "      qna.load().then(model => {\n",
              "        // 分析答案\n",
              "        model.findAnswers(question, passage).then(answers => {\n",
              "          console.log('Answers: ', answers);\n",
              "          ans.innerHTML = \"Answer: \" + answers[0].text;\n",
              "        });\n",
              "      });\n",
              "\n",
              "  }\n",
              "</script>\n"
            ]
          },
          "metadata": {},
          "execution_count": 4
        }
      ]
    },
    {
      "cell_type": "code",
      "source": [],
      "metadata": {
        "id": "T35ibzF8IPa1"
      },
      "execution_count": null,
      "outputs": []
    }
  ]
}