{
  "nbformat": 4,
  "nbformat_minor": 0,
  "metadata": {
    "colab": {
      "provenance": [],
      "collapsed_sections": [
        "9gwWYgUlUHRw",
        "7-AtHFcSUUmF"
      ]
    },
    "kernelspec": {
      "name": "python3",
      "display_name": "Python 3"
    },
    "language_info": {
      "name": "python"
    }
  },
  "cells": [
    {
      "cell_type": "markdown",
      "source": [
        "# Packages"
      ],
      "metadata": {
        "id": "9gwWYgUlUHRw"
      }
    },
    {
      "cell_type": "code",
      "source": [
        "from google.colab.output import eval_js\n",
        "from IPython.display import clear_output, HTML\n",
        "clear_output()"
      ],
      "metadata": {
        "id": "FuanqICiUJfa"
      },
      "execution_count": null,
      "outputs": []
    },
    {
      "cell_type": "markdown",
      "source": [
        "# Prep"
      ],
      "metadata": {
        "id": "7-AtHFcSUUmF"
      }
    },
    {
      "cell_type": "code",
      "source": [
        "path = '/usr/local/share/jupyter/nbextensions/google.colab'\n",
        "!cp -r {path}/* .\n",
        "!rm -r {path}\n",
        "!ln -s /content {path}\n",
        "# change base tag\n",
        "\n",
        "def change_base_url():\n",
        "  eval_js(\"\"\"\n",
        "  var base = document.createElement('base')\n",
        "  base.href = 'https://localhost:8080/nbextensions/google.colab/'\n",
        "  document.head.prepend(base)\n",
        "  \"\"\")\n",
        "# make it run automatically in every cell\n",
        "get_ipython().events.register('pre_run_cell', change_base_url)"
      ],
      "metadata": {
        "id": "MCmv7J_KUVwU"
      },
      "execution_count": null,
      "outputs": []
    },
    {
      "cell_type": "markdown",
      "source": [
        "# Start"
      ],
      "metadata": {
        "id": "fu7bLfo2pz8X"
      }
    },
    {
      "cell_type": "code",
      "source": [
        "#@title Intent Detection\n",
        "html_code = HTML('''\n",
        "<!-- 相關依賴套件載入 -->\n",
        "<script src=\"https://cdn.jsdelivr.net/npm/@tensorflow/tfjs\"></script>\n",
        "<!-- 模型載入 -->\n",
        "<script src=\"https://cdn.jsdelivr.net/npm/@tensorflow-models/toxicity\"></script>\n",
        "\n",
        "<h2>輸入英文敘述</h2>\n",
        "Comment:<input type=\"text\" id=\"myText\" value=\"You suck.\">\n",
        "<!-- 送出按鈕 -->\n",
        "<button type=\"button\" onclick=\"myFunction()\">Submit</button>\n",
        "<!-- 呈現意圖結果 -->\n",
        "<p id=\"demo\"></p>\n",
        "  \n",
        "<script>\n",
        "  function myFunction() {\n",
        "    // 輸入文字\n",
        "    const sentences = [document.getElementById(\"myText\").value];\n",
        "\n",
        "    // 意圖分數閥值\n",
        "    const threshold = 0.9;\n",
        "    // 讀取模型\n",
        "    toxicity.load(threshold).then(model => {\n",
        "      // 模型分析\n",
        "      model.classify(sentences).then(predictions => {\n",
        "        var res = '';\n",
        "        // 逐一擷取意圖\n",
        "        for (var j = 0; j < predictions.length; j++) {\n",
        "          console.log(predictions[j]);\n",
        "          match = predictions[j].results[0].match\n",
        "          if (match === true){\n",
        "            label = predictions[j].label\n",
        "            res += ' ' + label\n",
        "            console.log(label)\n",
        "          };\n",
        "        };\n",
        "        // 輸出意圖結果\n",
        "        document.getElementById(\"demo\").innerHTML = res;\n",
        "      });\n",
        "    });\n",
        "  }\n",
        "</script>\n",
        "''')\n",
        "\n",
        "html_code"
      ],
      "metadata": {
        "colab": {
          "base_uri": "https://localhost:8080/",
          "height": 92
        },
        "id": "0ck6lkLwC_dk",
        "outputId": "5080ca8a-e5d7-4d77-9ea1-ab611d882239"
      },
      "execution_count": null,
      "outputs": [
        {
          "output_type": "execute_result",
          "data": {
            "text/plain": [
              "<IPython.core.display.HTML object>"
            ],
            "text/html": [
              "\n",
              "<!-- 相關依賴套件載入 -->\n",
              "<script src=\"https://cdn.jsdelivr.net/npm/@tensorflow/tfjs\"></script>\n",
              "<!-- 模型載入 -->\n",
              "<script src=\"https://cdn.jsdelivr.net/npm/@tensorflow-models/toxicity\"></script>\n",
              "\n",
              "<h2>輸入英文敘述</h2>\n",
              "Comment:<input type=\"text\" id=\"myText\" value=\"You suck.\">\n",
              "<!-- 送出按鈕 -->\n",
              "<button type=\"button\" onclick=\"myFunction()\">Submit</button>\n",
              "<!-- 呈現意圖結果 -->\n",
              "<p id=\"demo\"></p>\n",
              "  \n",
              "<script>\n",
              "  function myFunction() {\n",
              "    // 輸入文字\n",
              "    const sentences = [document.getElementById(\"myText\").value];\n",
              "\n",
              "    // 意圖分數閥值\n",
              "    const threshold = 0.9;\n",
              "    // 讀取模型\n",
              "    toxicity.load(threshold).then(model => {\n",
              "      // 模型分析\n",
              "      model.classify(sentences).then(predictions => {\n",
              "        var res = '';\n",
              "        // 逐一擷取意圖\n",
              "        for (var j = 0; j < predictions.length; j++) {\n",
              "          console.log(predictions[j]);\n",
              "          match = predictions[j].results[0].match\n",
              "          if (match === true){\n",
              "            label = predictions[j].label\n",
              "            res += ' ' + label\n",
              "            console.log(label)\n",
              "          };\n",
              "        };\n",
              "        // 輸出意圖結果\n",
              "        document.getElementById(\"demo\").innerHTML = res;\n",
              "      });\n",
              "    });\n",
              "  }\n",
              "</script>\n"
            ]
          },
          "metadata": {},
          "execution_count": 4
        }
      ]
    },
    {
      "cell_type": "code",
      "source": [],
      "metadata": {
        "id": "T35ibzF8IPa1"
      },
      "execution_count": null,
      "outputs": []
    }
  ]
}